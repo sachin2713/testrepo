{
 "cells": [
  {
   "cell_type": "markdown",
   "id": "650dbd8a-ac17-4daf-bfb3-54c738f7ed1b",
   "metadata": {
    "tags": []
   },
   "source": [
    "# Data Science Tools and Ecosystem"
   ]
  },
  {
   "cell_type": "markdown",
   "id": "90e8b35a-e9dd-46ad-a1da-2b8ec9569ce9",
   "metadata": {},
   "source": [
    "In this notebook, Data Science Tools and Ecosystem are summarized."
   ]
  },
  {
   "cell_type": "markdown",
   "id": "1671ddbb-c166-4131-9001-957b37b2b413",
   "metadata": {},
   "source": [
    "Some of the popular languages that Data Scientists use are:\n",
    "1. Python\n",
    "2. R\n",
    "3. Scala"
   ]
  },
  {
   "cell_type": "markdown",
   "id": "111dc37e-e3ef-46fc-824d-8e863a5a9f4f",
   "metadata": {},
   "source": [
    "Some of the commonly used libraries used by Data Scientists include:\n",
    "<ol>\n",
    "    <li>NumPy</li>\n",
    "    <li>Pandas</li>\n",
    "    <li>SciKit</li>\n",
    "    <li>Keras</li>\n",
    "</ol>\n",
    "\n"
   ]
  },
  {
   "cell_type": "markdown",
   "id": "cdc9ff90-f59f-4ba9-a22c-77da5af5994b",
   "metadata": {
    "tags": []
   },
   "source": [
    "<table style=\"width:20%\">>\n",
    "<tr>\n",
    "<th>Data Science Tools</th>\n",
    "</tr>\n",
    "<tr>\n",
    "<td>Jupyter Notebook</td>\n",
    "</tr>\n",
    "<tr>\n",
    "<td>Apache Spark</td>\n",
    "</tr>\n",
    "<tr>\n",
    "<td>Tableau</td>\n",
    "</tr>\n",
    "</table>"
   ]
  },
  {
   "cell_type": "markdown",
   "id": "6f8a714b-d292-491b-859f-aa0e5c7b2d65",
   "metadata": {},
   "source": [
    "### Below are a few examples of evaluating arithmetic expressions in Python.\n",
    "\n",
    "### Add\n",
    "`3 + 5` evaluates to **8**\n",
    "\n",
    "### Subtraction\n",
    "`10 - 4` evaluates to **6**\n",
    "\n",
    "### Multiplication\n",
    "`6 * 7` evaluates to **42**\n",
    "\n",
    "### Division\n",
    "`15 / 3` evaluates to **5.0**\n",
    "\n",
    "\n"
   ]
  },
  {
   "cell_type": "code",
   "execution_count": 1,
   "id": "4647559b-bd4f-46b3-a9ca-76ace5b6303c",
   "metadata": {
    "tags": []
   },
   "outputs": [
    {
     "data": {
      "text/plain": [
       "17"
      ]
     },
     "execution_count": 1,
     "metadata": {},
     "output_type": "execute_result"
    }
   ],
   "source": [
    "# This a simple arithmetic expression to mutiply then add integers \n",
    "\n",
    "(3*4)+5"
   ]
  },
  {
   "cell_type": "code",
   "execution_count": 3,
   "id": "da289a6a-442e-4b39-8b89-ce1e865391aa",
   "metadata": {
    "tags": []
   },
   "outputs": [
    {
     "name": "stdout",
     "output_type": "stream",
     "text": [
      "3.3333333333333335\n"
     ]
    }
   ],
   "source": [
    "#  This will convert 200 minutes to hours by diving by 60\n",
    "minutes = 200\n",
    "hours = minutes / 60\n",
    "print(hours)"
   ]
  },
  {
   "cell_type": "markdown",
   "id": "bb618f03-5d4f-4c71-a1c9-704aaabdb5a9",
   "metadata": {},
   "source": [
    "### <b>Objectives::</b>\n",
    "1. Introduction to Jupyter Notebook\n",
    "2. Tools required in Data Science\n",
    "3. Introduction to GitHub\n",
    "\n",
    "### List popular languages for Data Science:\n",
    "<ol>\n",
    "    <li>Python</li>\n",
    "    <li>R</li>\n",
    "    <li>Scala</li>\n",
    "</ol>\n"
   ]
  },
  {
   "cell_type": "markdown",
   "id": "f35a32a8-9caf-4b4d-ab16-64ded156d4b7",
   "metadata": {},
   "source": [
    "## Author\n",
    "Sachin Kumar"
   ]
  },
  {
   "cell_type": "code",
   "execution_count": null,
   "id": "35de22c4-02fc-4983-8dd5-dac94c7b0507",
   "metadata": {},
   "outputs": [],
   "source": []
  }
 ],
 "metadata": {
  "kernelspec": {
   "display_name": "Python",
   "language": "python",
   "name": "conda-env-python-py"
  },
  "language_info": {
   "codemirror_mode": {
    "name": "ipython",
    "version": 3
   },
   "file_extension": ".py",
   "mimetype": "text/x-python",
   "name": "python",
   "nbconvert_exporter": "python",
   "pygments_lexer": "ipython3",
   "version": "3.7.12"
  }
 },
 "nbformat": 4,
 "nbformat_minor": 5
}
